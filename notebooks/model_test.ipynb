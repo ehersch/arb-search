{
 "cells": [
  {
   "cell_type": "markdown",
   "id": "379b9f6f-3abd-4d64-aa7e-bac032aaba6a",
   "metadata": {},
   "source": [
    "# Experiment with standard tiem series vs ML models"
   ]
  },
  {
   "cell_type": "markdown",
   "id": "6241bd77-2397-4305-958b-fae6da9259a9",
   "metadata": {},
   "source": [
    "## Time series (ARIMA) vs regression"
   ]
  },
  {
   "cell_type": "markdown",
   "id": "fcd6ab4e-52d1-4cec-a2a7-4171f9c9313d",
   "metadata": {
    "tags": []
   },
   "source": [
    "Some question:\n",
    "\n",
    "- How will we collect this data (i.e. how often, for how long)\n",
    "- How do we train on this data. Do we only care about historical A vs B data (probbaly not). If we train on matchups from ANY prior teams, is this viable for predicting the odds for one specific matchup?\n",
    "- How do we split training and validation?\n",
    "- Which of these models will work best?\n",
    "- How do we make sure \"we get there first.\" Websites change their odds very quickly, what if we have some action listener such that whenever any win percentages change, we run our model to predict if odds will go up or down before they actually do...\n",
    "- What if we use XGBoost\n",
    "- https://youtu.be/vV12dGe_Fho?si=qojV56UvqRkEhVxe\n",
    "- Cross validation"
   ]
  },
  {
   "cell_type": "markdown",
   "id": "66458f25-34f7-4aba-b707-e27e2adaa2bc",
   "metadata": {},
   "source": [
    "KRR"
   ]
  },
  {
   "cell_type": "code",
   "execution_count": null,
   "id": "922a986d-76eb-49a4-a2d3-dc9c72b71b03",
   "metadata": {},
   "outputs": [],
   "source": [
    "from sklearn.kernel_ridge import KernelRidge\n",
    "from sklearn.model_selection import train_test_split\n",
    "from sklearn.metrics import mean_squared_error\n",
    "import numpy as np\n",
    "\n",
    "# Sample data (replace with your actual data)\n",
    "X = np.array([[0.1], [0.2], [0.3], [0.4], [0.5]])  # Win percentage\n",
    "y = np.array([1.5, 2.5, 3.5, 4.5, 5.5])  # Odds\n",
    "\n",
    "# Split data into training and testing sets\n",
    "X_train, X_test, y_train, y_test = train_test_split(X, y, test_size=0.2, random_state=42)\n",
    "\n",
    "# Initialize and train the Kernel Ridge Regression model\n",
    "krr = KernelRidge(kernel='rbf')  # Example with Radial Basis Function kernel\n",
    "krr.fit(X_train, y_train)\n",
    "\n",
    "# Make predictions\n",
    "y_pred = krr.predict(X_test)\n",
    "\n",
    "# Evaluate the model\n",
    "mse = mean_squared_error(y_test, y_pred)\n",
    "print(f\"Mean Squared Error: {mse}\")\n",
    "\n",
    "# Example prediction\n",
    "new_win_percentage = np.array([[0.6]])  # Example new win percentage\n",
    "predicted_odds = krr.predict(new_win_percentage)\n",
    "print(f\"Predicted odds for {new_win_percentage[0][0]} win percentage: {predicted_odds[0]}\")\n"
   ]
  },
  {
   "cell_type": "markdown",
   "id": "5c7fe2aa-0bea-4a98-807d-1043dff107a9",
   "metadata": {},
   "source": [
    "ARIMA"
   ]
  },
  {
   "cell_type": "code",
   "execution_count": null,
   "id": "8aa2c35c-7c1a-4752-98ca-06278c311a69",
   "metadata": {},
   "outputs": [],
   "source": [
    "import pandas as pd\n",
    "from statsmodels.tsa.arima.model import ARIMA\n",
    "import matplotlib.pyplot as plt\n",
    "\n",
    "# Assuming you have loaded your data into df as per your format\n",
    "# Example:\n",
    "# df = pd.read_csv(\"your_data.csv\")\n",
    "\n",
    "# Example data (replace with your actual data loading and preparation)\n",
    "dates = pd.date_range(start='2015-01', freq='MS', periods=len(df))\n",
    "df.set_index(dates, inplace=True)\n",
    "\n",
    "# Example splitting into train and test periods\n",
    "train = df[df.index < '2019-01']\n",
    "test = df[df.index >= '2019-01']\n",
    "\n",
    "# Example win percentage and odds\n",
    "train_win_percentage = train['win_percentage']  # Replace 'win_percentage' with your actual column name\n",
    "test_win_percentage = test['win_percentage']  # Replace 'win_percentage' with your actual column name\n",
    "\n",
    "# Initialize ARIMA model\n",
    "# Example with ARIMA(1, 1, 1) parameters (adjust based on your data characteristics)\n",
    "model = ARIMA(train_win_percentage, order=(1, 1, 1))\n",
    "model_fit = model.fit()\n",
    "\n",
    "# Forecast\n",
    "forecast, stderr, conf_int = model_fit.forecast(steps=len(test))\n",
    "\n",
    "# Plot results\n",
    "plt.figure(figsize=(12, 6))\n",
    "plt.plot(test.index, test_win_percentage, label='Actual Win Percentage')\n",
    "plt.plot(test.index, forecast, color='red', label='Forecasted Win Percentage')\n",
    "plt.legend()\n",
    "plt.title('ARIMA Forecasting Win Percentage')\n",
    "plt.xlabel('Date')\n",
    "plt.ylabel('Win Percentage')\n",
    "plt.grid(True)\n",
    "plt.show()\n",
    "\n",
    "# Example prediction for new date\n",
    "# Adjust the parameters as per your specific needs\n",
    "future_steps = 12  # Example: Forecasting for next 12 periods\n",
    "forecast_future = model_fit.forecast(steps=future_steps)\n",
    "\n",
    "print(forecast_future)\n"
   ]
  }
 ],
 "metadata": {
  "kernelspec": {
   "display_name": "Python 3 (ipykernel)",
   "language": "python",
   "name": "python3"
  },
  "language_info": {
   "codemirror_mode": {
    "name": "ipython",
    "version": 3
   },
   "file_extension": ".py",
   "mimetype": "text/x-python",
   "name": "python",
   "nbconvert_exporter": "python",
   "pygments_lexer": "ipython3",
   "version": "3.11.5"
  }
 },
 "nbformat": 4,
 "nbformat_minor": 5
}
