{
 "cells": [
  {
   "cell_type": "markdown",
   "id": "d8f8c7d4-4580-458f-b402-ca86191f4176",
   "metadata": {},
   "source": [
    "# SQLite3 Implementation\n",
    "## see https://docs.python.org/3/library/sqlite3.html for further information"
   ]
  },
  {
   "cell_type": "code",
   "execution_count": 20,
   "id": "d70bd1e2-8358-4364-9e7a-229a10fbdc80",
   "metadata": {
    "tags": []
   },
   "outputs": [],
   "source": [
    "import sqlite3\n",
    "import csv"
   ]
  },
  {
   "cell_type": "code",
   "execution_count": 21,
   "id": "d7a10df3-67fa-4d9d-9301-6c148e23ab94",
   "metadata": {
    "tags": []
   },
   "outputs": [],
   "source": [
    "con = sqlite3.connect(\"baseball_forecasting.db\")"
   ]
  },
  {
   "cell_type": "code",
   "execution_count": 22,
   "id": "b05a10e0-2081-47d0-9475-89171d001bc0",
   "metadata": {
    "tags": []
   },
   "outputs": [],
   "source": [
    "cur = con.cursor()"
   ]
  },
  {
   "cell_type": "code",
   "execution_count": 53,
   "id": "287740a5-97ae-4173-8a51-c3c76f2d397e",
   "metadata": {
    "tags": []
   },
   "outputs": [
    {
     "data": {
      "text/plain": [
       "<sqlite3.Cursor at 0x10ad673c0>"
      ]
     },
     "execution_count": 53,
     "metadata": {},
     "output_type": "execute_result"
    }
   ],
   "source": [
    "# Drop the table if it already exists\n",
    "#cur.execute('DROP TABLE IF EXISTS game_forecasts')"
   ]
  },
  {
   "cell_type": "markdown",
   "id": "c0e16c7f-42da-4ca7-bb67-78d8ccdaedce",
   "metadata": {},
   "source": [
    "### Create DB to store ID, time, team, opponent, win percentage (some weighted average), odds (will make an entry for every site0"
   ]
  },
  {
   "cell_type": "code",
   "execution_count": 54,
   "id": "4578255d-a026-416c-937c-4c5a741ae432",
   "metadata": {
    "tags": []
   },
   "outputs": [],
   "source": [
    "# Create the game_forecasts table\n",
    "cur.execute('''\n",
    "    CREATE TABLE IF NOT EXISTS game_forecasts (\n",
    "        id INTEGER PRIMARY KEY AUTOINCREMENT,\n",
    "        timestamp DATETIME DEFAULT CURRENT_TIMESTAMP,\n",
    "        team TEXT NOT NULL,\n",
    "        opponent TEXT NOT NULL,\n",
    "        win_percentage REAL NOT NULL,\n",
    "        current_odds REAL NOT NULL\n",
    "    )\n",
    "''')\n",
    "\n",
    "# Commit the changes and close the connection\n",
    "con.commit()\n",
    "con.close()"
   ]
  },
  {
   "cell_type": "markdown",
   "id": "d1a8b5b0-5d4e-4b3f-b584-e904b2c4b9fb",
   "metadata": {
    "tags": []
   },
   "source": [
    "### Add to DB"
   ]
  },
  {
   "cell_type": "code",
   "execution_count": 31,
   "id": "1f7080b5-4f27-4f25-b7e7-176c064e1d28",
   "metadata": {
    "tags": []
   },
   "outputs": [],
   "source": [
    "def insert_forecast(team, opponent, win_percentage, current_odds):\n",
    "    conn = sqlite3.connect('baseball_forecasting.db')\n",
    "    cursor = conn.cursor()\n",
    "    \n",
    "    cursor.execute('''\n",
    "        INSERT INTO game_forecasts (team, opponent, win_percentage, current_odds)\n",
    "        VALUES (?, ?, ?, ?)\n",
    "    ''', (team, opponent, win_percentage, current_odds))\n",
    "    \n",
    "    conn.commit()\n",
    "    conn.close()\n",
    "\n",
    "# Example usage\n",
    "insert_forecast('Team A', 'Team C', 0.65, 1.5)"
   ]
  },
  {
   "cell_type": "markdown",
   "id": "2c035097-3cd5-4f21-b05f-32b63eb45eab",
   "metadata": {
    "tags": []
   },
   "source": [
    "### Query Data"
   ]
  },
  {
   "cell_type": "code",
   "execution_count": 32,
   "id": "15493c1f-c803-43a8-b68e-81d683e9101f",
   "metadata": {
    "tags": []
   },
   "outputs": [
    {
     "name": "stdout",
     "output_type": "stream",
     "text": [
      "(1, '2024-07-18 22:41:43', 'Team A', 'Team B', 0.65, 1.5)\n",
      "(2, '2024-07-18 22:54:22', 'Team A', 'Team C', 0.65, 1.5)\n",
      "(3, '2024-07-18 22:59:06', 'Team A', 'Team C', 0.65, 1.5)\n"
     ]
    }
   ],
   "source": [
    "import sqlite3\n",
    "\n",
    "def get_forecasts():\n",
    "    conn = sqlite3.connect('baseball_forecasting.db')\n",
    "    cursor = conn.cursor()\n",
    "    \n",
    "    cursor.execute('SELECT * FROM game_forecasts')\n",
    "    rows = cursor.fetchall()\n",
    "    \n",
    "    for row in rows:\n",
    "        print(row)\n",
    "    \n",
    "    conn.close()\n",
    "\n",
    "# Example usage\n",
    "get_forecasts()"
   ]
  },
  {
   "cell_type": "markdown",
   "id": "64fd3371-6a96-4bae-8b89-2c9e86989b2a",
   "metadata": {},
   "source": [
    "## Export a DB to CSV"
   ]
  },
  {
   "cell_type": "code",
   "execution_count": 34,
   "id": "d72a459c-883b-4a09-b727-9716dd6735ef",
   "metadata": {
    "tags": []
   },
   "outputs": [],
   "source": [
    "def export_to_csv(database_path, csv_path):\n",
    "    # Connect to the SQLite database\n",
    "    conn = sqlite3.connect(database_path)\n",
    "    cursor = conn.cursor()\n",
    "    \n",
    "    # Select all data from the game_forecasts table\n",
    "    cursor.execute('SELECT * FROM game_forecasts')\n",
    "    rows = cursor.fetchall()\n",
    "    \n",
    "    # Get the column names from the cursor description\n",
    "    column_names = [description[0] for description in cursor.description]\n",
    "    \n",
    "    # Open the CSV file for writing\n",
    "    with open(csv_path, 'w', newline='') as csv_file:\n",
    "        csv_writer = csv.writer(csv_file)\n",
    "        \n",
    "        # Write the column names as the first row\n",
    "        csv_writer.writerow(column_names)\n",
    "        \n",
    "        # Write the data rows\n",
    "        csv_writer.writerows(rows)\n",
    "    \n",
    "    # Close the database connection\n",
    "    conn.close()"
   ]
  },
  {
   "cell_type": "code",
   "execution_count": 35,
   "id": "5289660b-28c9-4de5-a017-5893ee5a6203",
   "metadata": {},
   "outputs": [
    {
     "name": "stdout",
     "output_type": "stream",
     "text": [
      "Exported to game_forecasts.csv\n"
     ]
    }
   ],
   "source": [
    "# Example usage\n",
    "database_path = 'baseball_forecasting.db'\n",
    "csv_path = 'game_forecasts.csv'\n",
    "export_to_csv(database_path, csv_path)\n",
    "print(f\"Exported to {csv_path}\")"
   ]
  },
  {
   "cell_type": "code",
   "execution_count": null,
   "id": "51ff68d9-4234-40ac-ab44-35a5927d4d02",
   "metadata": {},
   "outputs": [],
   "source": []
  }
 ],
 "metadata": {
  "kernelspec": {
   "display_name": "Python 3 (ipykernel)",
   "language": "python",
   "name": "python3"
  },
  "language_info": {
   "codemirror_mode": {
    "name": "ipython",
    "version": 3
   },
   "file_extension": ".py",
   "mimetype": "text/x-python",
   "name": "python",
   "nbconvert_exporter": "python",
   "pygments_lexer": "ipython3",
   "version": "3.11.5"
  }
 },
 "nbformat": 4,
 "nbformat_minor": 5
}
