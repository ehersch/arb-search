{
 "cells": [
  {
   "cell_type": "markdown",
   "id": "d8f8c7d4-4580-458f-b402-ca86191f4176",
   "metadata": {},
   "source": [
    "# SQLite3 Implementation\n",
    "## see https://docs.python.org/3/library/sqlite3.html for further information"
   ]
  },
  {
   "cell_type": "code",
   "execution_count": 30,
   "id": "d70bd1e2-8358-4364-9e7a-229a10fbdc80",
   "metadata": {
    "tags": []
   },
   "outputs": [],
   "source": [
    "import sqlite3\n",
    "con = sqlite3.connect(\"baseball_forecasting.db\")"
   ]
  },
  {
   "cell_type": "code",
   "execution_count": 31,
   "id": "b05a10e0-2081-47d0-9475-89171d001bc0",
   "metadata": {
    "tags": []
   },
   "outputs": [],
   "source": [
    "cur = con.cursor()"
   ]
  },
  {
   "cell_type": "markdown",
   "id": "c0e16c7f-42da-4ca7-bb67-78d8ccdaedce",
   "metadata": {},
   "source": [
    "### Create DB to store ID, time, team, opponent, win percentage (some weighted average), odds (will make an entry for every site0"
   ]
  },
  {
   "cell_type": "code",
   "execution_count": 32,
   "id": "4578255d-a026-416c-937c-4c5a741ae432",
   "metadata": {
    "tags": []
   },
   "outputs": [],
   "source": [
    "# Create the game_forecasts table\n",
    "cur.execute('''\n",
    "    CREATE TABLE IF NOT EXISTS game_forecasts (\n",
    "        id INTEGER PRIMARY KEY AUTOINCREMENT,\n",
    "        timestamp DATETIME DEFAULT CURRENT_TIMESTAMP,\n",
    "        team TEXT NOT NULL,\n",
    "        opponent TEXT NOT NULL,\n",
    "        win_percentage REAL NOT NULL,\n",
    "        current_odds REAL NOT NULL\n",
    "    )\n",
    "''')\n",
    "\n",
    "# Commit the changes and close the connection\n",
    "con.commit()\n",
    "con.close()"
   ]
  },
  {
   "cell_type": "markdown",
   "id": "d1a8b5b0-5d4e-4b3f-b584-e904b2c4b9fb",
   "metadata": {
    "tags": []
   },
   "source": [
    "### Add to DB"
   ]
  },
  {
   "cell_type": "code",
   "execution_count": 34,
   "id": "1f7080b5-4f27-4f25-b7e7-176c064e1d28",
   "metadata": {
    "tags": []
   },
   "outputs": [
    {
     "ename": "OperationalError",
     "evalue": "table game_forecasts has no column named opponent",
     "output_type": "error",
     "traceback": [
      "\u001b[0;31m---------------------------------------------------------------------------\u001b[0m",
      "\u001b[0;31mOperationalError\u001b[0m                          Traceback (most recent call last)",
      "Cell \u001b[0;32mIn[34], line 14\u001b[0m\n\u001b[1;32m     11\u001b[0m     conn\u001b[38;5;241m.\u001b[39mclose()\n\u001b[1;32m     13\u001b[0m \u001b[38;5;66;03m# Example usage\u001b[39;00m\n\u001b[0;32m---> 14\u001b[0m insert_forecast(\u001b[38;5;124m'\u001b[39m\u001b[38;5;124mTeam A\u001b[39m\u001b[38;5;124m'\u001b[39m, \u001b[38;5;124m'\u001b[39m\u001b[38;5;124mTeam B\u001b[39m\u001b[38;5;124m'\u001b[39m, \u001b[38;5;241m0.65\u001b[39m, \u001b[38;5;241m1.5\u001b[39m)\n",
      "Cell \u001b[0;32mIn[34], line 5\u001b[0m, in \u001b[0;36minsert_forecast\u001b[0;34m(team, opponent, win_percentage, forecasted_odds)\u001b[0m\n\u001b[1;32m      2\u001b[0m conn \u001b[38;5;241m=\u001b[39m sqlite3\u001b[38;5;241m.\u001b[39mconnect(\u001b[38;5;124m'\u001b[39m\u001b[38;5;124mbaseball_forecasting.db\u001b[39m\u001b[38;5;124m'\u001b[39m)\n\u001b[1;32m      3\u001b[0m cursor \u001b[38;5;241m=\u001b[39m conn\u001b[38;5;241m.\u001b[39mcursor()\n\u001b[0;32m----> 5\u001b[0m cursor\u001b[38;5;241m.\u001b[39mexecute(\u001b[38;5;124m'''\u001b[39m\n\u001b[1;32m      6\u001b[0m \u001b[38;5;124m    INSERT INTO game_forecasts (team, opponent, win_percentage, forecasted_odds)\u001b[39m\n\u001b[1;32m      7\u001b[0m \u001b[38;5;124m    VALUES (?, ?, ?, ?)\u001b[39m\n\u001b[1;32m      8\u001b[0m \u001b[38;5;124m\u001b[39m\u001b[38;5;124m'''\u001b[39m, (team, opponent, win_percentage, forecasted_odds))\n\u001b[1;32m     10\u001b[0m conn\u001b[38;5;241m.\u001b[39mcommit()\n\u001b[1;32m     11\u001b[0m conn\u001b[38;5;241m.\u001b[39mclose()\n",
      "\u001b[0;31mOperationalError\u001b[0m: table game_forecasts has no column named opponent"
     ]
    }
   ],
   "source": [
    "def insert_forecast(team, opponent, win_percentage, forecasted_odds):\n",
    "    conn = sqlite3.connect('baseball_forecasting.db')\n",
    "    cursor = conn.cursor()\n",
    "    \n",
    "    cursor.execute('''\n",
    "        INSERT INTO game_forecasts (team, opponent, win_percentage, current_odds)\n",
    "        VALUES (?, ?, ?, ?)\n",
    "    ''', (team, opponent, win_percentage, forecasted_odds))\n",
    "    \n",
    "    conn.commit()\n",
    "    conn.close()\n",
    "\n",
    "# Example usage\n",
    "insert_forecast('Team A', 'Team B', 0.65, 1.5)"
   ]
  },
  {
   "cell_type": "markdown",
   "id": "2c035097-3cd5-4f21-b05f-32b63eb45eab",
   "metadata": {
    "tags": []
   },
   "source": [
    "### Query Data"
   ]
  },
  {
   "cell_type": "code",
   "execution_count": 28,
   "id": "15493c1f-c803-43a8-b68e-81d683e9101f",
   "metadata": {
    "tags": []
   },
   "outputs": [],
   "source": [
    "import sqlite3\n",
    "\n",
    "def get_forecasts():\n",
    "    conn = sqlite3.connect('baseball_forecasting.db')\n",
    "    cursor = conn.cursor()\n",
    "    \n",
    "    cursor.execute('SELECT * FROM game_forecasts')\n",
    "    rows = cursor.fetchall()\n",
    "    \n",
    "    for row in rows:\n",
    "        print(row)\n",
    "    \n",
    "    conn.close()\n",
    "\n",
    "# Example usage\n",
    "get_forecasts()"
   ]
  },
  {
   "cell_type": "code",
   "execution_count": 9,
   "id": "abec3e9c-b0c4-4768-ae6d-0b9fa5773670",
   "metadata": {
    "tags": []
   },
   "outputs": [],
   "source": [
    "con.commit()"
   ]
  },
  {
   "cell_type": "code",
   "execution_count": 10,
   "id": "8a8cef27-2edc-4f59-ab36-1cc08225b1a9",
   "metadata": {
    "tags": []
   },
   "outputs": [
    {
     "data": {
      "text/plain": [
       "[(8.2,), (7.5,)]"
      ]
     },
     "execution_count": 10,
     "metadata": {},
     "output_type": "execute_result"
    }
   ],
   "source": [
    "res = cur.execute(\"SELECT score FROM movie\")\n",
    "res.fetchall()"
   ]
  },
  {
   "cell_type": "code",
   "execution_count": null,
   "id": "84e7fcc2-ba89-472c-bd2b-2f0987c1692b",
   "metadata": {},
   "outputs": [],
   "source": []
  }
 ],
 "metadata": {
  "kernelspec": {
   "display_name": "Python 3 (ipykernel)",
   "language": "python",
   "name": "python3"
  },
  "language_info": {
   "codemirror_mode": {
    "name": "ipython",
    "version": 3
   },
   "file_extension": ".py",
   "mimetype": "text/x-python",
   "name": "python",
   "nbconvert_exporter": "python",
   "pygments_lexer": "ipython3",
   "version": "3.11.5"
  }
 },
 "nbformat": 4,
 "nbformat_minor": 5
}
